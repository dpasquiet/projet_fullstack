{
 "cells": [
  {
   "cell_type": "code",
   "execution_count": 1,
   "metadata": {},
   "outputs": [],
   "source": [
    "import pandas as pd\n",
    "import numpy as np \n",
    "import matplotlib.pyplot as plt\n",
    "import seaborn as sns\n",
    "import plotly.express as px"
   ]
  },
  {
   "cell_type": "code",
   "execution_count": 62,
   "metadata": {},
   "outputs": [],
   "source": [
    "df = pd.read_csv(\"fr-esr-parcoursup-enseignements-de-specialite-bacheliers-generaux-2.csv\", delimiter=';')"
   ]
  },
  {
   "cell_type": "code",
   "execution_count": 40,
   "metadata": {},
   "outputs": [
    {
     "name": "stdout",
     "output_type": "stream",
     "text": [
      "[2021 2022 2023]\n",
      "Année du Baccalauréat:count of unique  3\n",
      "['Licence Chimie' 'Licence Langues et littératures françaises'\n",
      " 'Licence Philosophie, Epistémologie' 'Licence Physique'\n",
      " 'Licence Pluri Droit - Sciences éco - AES' 'Licence Pluri Langues'\n",
      " 'Licence Pluri Lettres - Sciences du langage - Arts'\n",
      " 'Licence Pluri Sciences fondamentales et applications'\n",
      " 'Licence Psychlogie, Sciences cognitives'\n",
      " 'Licence Sciences de la vie, biologie, santé'\n",
      " 'Licence Sciences du langage - Linguistique' 'Licence L.AS' 'BTS Service'\n",
      " \"Ecoles d'ingénieurs\" \"Formations d'ART\" 'DCG'\n",
      " 'Formations des écoles nationales vétérinaires' 'Licence AES'\n",
      " 'Licence MASS' 'Licence Physique et chimie' 'Licence Pluri Sciences'\n",
      " 'Licence Sciences de l information et de la communication'\n",
      " 'Licence Sciences de l éducation' 'Licence Sciences économiques' 'CPGE L'\n",
      " 'D.E  social' 'D.E sanitaire' 'DEUST' 'Sciences po'\n",
      " 'Ensemble des bacheliers' 'Licence Histoire' 'Licence LEA'\n",
      " 'Licence Sciences de gestion' 'Licence Sociologie, Démographie'\n",
      " 'BUT Service' 'CPGE ECG' 'Ecoles de Commerce'\n",
      " 'Licence Sciences politiques' 'BUT Production' 'CPGE S'\n",
      " 'Licence Génie civil' 'Licence Géographie'\n",
      " 'Licence Mécanique, Génie mécanique, Ingénierie mécanique'\n",
      " 'Licence Informatique' 'Licence Langues et littératures étrangères'\n",
      " 'Licence Mathématiques' 'Licence Mathématiques et informatique'\n",
      " 'Licence Pluri Lettres - Langues - Sciences humaines'\n",
      " 'Licence Pluri Sciences de la vie, de la santé, de la terre et de l univers'\n",
      " 'Licence Pluri Sciences humaines et sociales'\n",
      " 'Licence Sciences de l univers, de la terre, de l espace'\n",
      " 'BTS Production' 'Licence Electronique, Génie électrique, EEA'\n",
      " 'Licence Formation générale aux métiers de l ingénieur'\n",
      " 'Licence Pluri Sciences économiques - Gestion'\n",
      " 'Licence Sciences et technologies industrielles' 'Licence Arts'\n",
      " 'Licence Sciences juridiques' 'Autres formations'\n",
      " 'Licence Sciences religieuses' 'BTS Agricole' 'PASS' 'CUPGE'\n",
      " 'Licence STAPS' 'Licence Archéologie, Ethno, Préhistoire, Anthropologie']\n",
      "Formation:count of unique  65\n"
     ]
    }
   ],
   "source": [
    "for col in ['Année du Baccalauréat', 'Formation']:\n",
    "    print(df[col].unique())\n",
    "    print(f\"{col}:count of unique \",df[col].nunique())"
   ]
  },
  {
   "cell_type": "code",
   "execution_count": 63,
   "metadata": {},
   "outputs": [
    {
     "data": {
      "text/plain": [
       "(12610, 6)"
      ]
     },
     "execution_count": 63,
     "metadata": {},
     "output_type": "execute_result"
    }
   ],
   "source": [
    "df.shape"
   ]
  },
  {
   "cell_type": "code",
   "execution_count": 42,
   "metadata": {},
   "outputs": [
    {
     "data": {
      "text/html": [
       "<div>\n",
       "<style scoped>\n",
       "    .dataframe tbody tr th:only-of-type {\n",
       "        vertical-align: middle;\n",
       "    }\n",
       "\n",
       "    .dataframe tbody tr th {\n",
       "        vertical-align: top;\n",
       "    }\n",
       "\n",
       "    .dataframe thead th {\n",
       "        text-align: right;\n",
       "    }\n",
       "</style>\n",
       "<table border=\"1\" class=\"dataframe\">\n",
       "  <thead>\n",
       "    <tr style=\"text-align: right;\">\n",
       "      <th></th>\n",
       "      <th>Année du Baccalauréat</th>\n",
       "      <th>Enseignements de spécialité</th>\n",
       "      <th>Formation</th>\n",
       "      <th>Nombre de candidats bacheliers ayant confirmé au moins un vœu</th>\n",
       "      <th>Nombre de candidats bacheliers ayant reçu au moins une proposition d'admission</th>\n",
       "      <th>Nombre de candidats bacheliers ayant accepté une proposition d'admission</th>\n",
       "    </tr>\n",
       "  </thead>\n",
       "  <tbody>\n",
       "    <tr>\n",
       "      <th>0</th>\n",
       "      <td>2021</td>\n",
       "      <td>Art,Art</td>\n",
       "      <td>Licence Chimie</td>\n",
       "      <td>0</td>\n",
       "      <td>0.0</td>\n",
       "      <td>0</td>\n",
       "    </tr>\n",
       "    <tr>\n",
       "      <th>1</th>\n",
       "      <td>2021</td>\n",
       "      <td>Art,Art</td>\n",
       "      <td>Licence Langues et littératures françaises</td>\n",
       "      <td>0</td>\n",
       "      <td>0.0</td>\n",
       "      <td>0</td>\n",
       "    </tr>\n",
       "    <tr>\n",
       "      <th>2</th>\n",
       "      <td>2021</td>\n",
       "      <td>Art,Art</td>\n",
       "      <td>Licence Philosophie, Epistémologie</td>\n",
       "      <td>0</td>\n",
       "      <td>0.0</td>\n",
       "      <td>0</td>\n",
       "    </tr>\n",
       "    <tr>\n",
       "      <th>3</th>\n",
       "      <td>2021</td>\n",
       "      <td>Art,Art</td>\n",
       "      <td>Licence Physique</td>\n",
       "      <td>0</td>\n",
       "      <td>0.0</td>\n",
       "      <td>0</td>\n",
       "    </tr>\n",
       "    <tr>\n",
       "      <th>4</th>\n",
       "      <td>2021</td>\n",
       "      <td>Art,Art</td>\n",
       "      <td>Licence Pluri Droit - Sciences éco - AES</td>\n",
       "      <td>0</td>\n",
       "      <td>0.0</td>\n",
       "      <td>0</td>\n",
       "    </tr>\n",
       "  </tbody>\n",
       "</table>\n",
       "</div>"
      ],
      "text/plain": [
       "   Année du Baccalauréat Enseignements de spécialité  \\\n",
       "0                   2021                     Art,Art   \n",
       "1                   2021                     Art,Art   \n",
       "2                   2021                     Art,Art   \n",
       "3                   2021                     Art,Art   \n",
       "4                   2021                     Art,Art   \n",
       "\n",
       "                                    Formation  \\\n",
       "0                              Licence Chimie   \n",
       "1  Licence Langues et littératures françaises   \n",
       "2          Licence Philosophie, Epistémologie   \n",
       "3                            Licence Physique   \n",
       "4    Licence Pluri Droit - Sciences éco - AES   \n",
       "\n",
       "   Nombre de candidats bacheliers ayant confirmé au moins un vœu  \\\n",
       "0                                                  0               \n",
       "1                                                  0               \n",
       "2                                                  0               \n",
       "3                                                  0               \n",
       "4                                                  0               \n",
       "\n",
       "   Nombre de candidats bacheliers ayant reçu au moins une proposition d'admission  \\\n",
       "0                                                0.0                                \n",
       "1                                                0.0                                \n",
       "2                                                0.0                                \n",
       "3                                                0.0                                \n",
       "4                                                0.0                                \n",
       "\n",
       "   Nombre de candidats bacheliers ayant accepté une proposition d'admission  \n",
       "0                                                  0                         \n",
       "1                                                  0                         \n",
       "2                                                  0                         \n",
       "3                                                  0                         \n",
       "4                                                  0                         "
      ]
     },
     "execution_count": 42,
     "metadata": {},
     "output_type": "execute_result"
    }
   ],
   "source": [
    "df.head()"
   ]
  },
  {
   "cell_type": "code",
   "execution_count": 43,
   "metadata": {},
   "outputs": [
    {
     "data": {
      "text/plain": [
       "Année du Baccalauréat                                                             0\n",
       "Enseignements de spécialité                                                       0\n",
       "Formation                                                                         0\n",
       "Nombre de candidats bacheliers ayant confirmé au moins un vœu                     0\n",
       "Nombre de candidats bacheliers ayant reçu au moins une proposition d'admission    0\n",
       "Nombre de candidats bacheliers ayant accepté une proposition d'admission          0\n",
       "dtype: int64"
      ]
     },
     "execution_count": 43,
     "metadata": {},
     "output_type": "execute_result"
    }
   ],
   "source": [
    "df.isna().sum()"
   ]
  },
  {
   "cell_type": "code",
   "execution_count": 44,
   "metadata": {},
   "outputs": [
    {
     "name": "stdout",
     "output_type": "stream",
     "text": [
      "<class 'pandas.core.frame.DataFrame'>\n",
      "RangeIndex: 12610 entries, 0 to 12609\n",
      "Data columns (total 6 columns):\n",
      " #   Column                                                                          Non-Null Count  Dtype  \n",
      "---  ------                                                                          --------------  -----  \n",
      " 0   Année du Baccalauréat                                                           12610 non-null  int64  \n",
      " 1   Enseignements de spécialité                                                     12610 non-null  object \n",
      " 2   Formation                                                                       12610 non-null  object \n",
      " 3   Nombre de candidats bacheliers ayant confirmé au moins un vœu                   12610 non-null  int64  \n",
      " 4   Nombre de candidats bacheliers ayant reçu au moins une proposition d'admission  12610 non-null  float64\n",
      " 5   Nombre de candidats bacheliers ayant accepté une proposition d'admission        12610 non-null  int64  \n",
      "dtypes: float64(1), int64(3), object(2)\n",
      "memory usage: 591.2+ KB\n"
     ]
    }
   ],
   "source": [
    "df.info()"
   ]
  },
  {
   "cell_type": "code",
   "execution_count": 45,
   "metadata": {},
   "outputs": [
    {
     "data": {
      "text/plain": [
       "Année du Baccalauréat                                                                3\n",
       "Enseignements de spécialité                                                         73\n",
       "Formation                                                                           65\n",
       "Nombre de candidats bacheliers ayant confirmé au moins un vœu                     1729\n",
       "Nombre de candidats bacheliers ayant reçu au moins une proposition d'admission    1326\n",
       "Nombre de candidats bacheliers ayant accepté une proposition d'admission           843\n",
       "dtype: int64"
      ]
     },
     "execution_count": 45,
     "metadata": {},
     "output_type": "execute_result"
    }
   ],
   "source": [
    "df.nunique()"
   ]
  },
  {
   "cell_type": "code",
   "execution_count": 64,
   "metadata": {},
   "outputs": [
    {
     "data": {
      "text/plain": [
       "array([2021, 2022, 2023], dtype=int64)"
      ]
     },
     "execution_count": 64,
     "metadata": {},
     "output_type": "execute_result"
    }
   ],
   "source": [
    "df['Année du Baccalauréat'].unique()"
   ]
  },
  {
   "cell_type": "code",
   "execution_count": 65,
   "metadata": {},
   "outputs": [],
   "source": [
    "# Supprimer les lignes où la colonne 'Formation' est égale à 'Ensemble des bacheliers'\n",
    "df = df[df['Formation'] != 'Ensemble des bacheliers']"
   ]
  },
  {
   "cell_type": "code",
   "execution_count": 66,
   "metadata": {},
   "outputs": [],
   "source": [
    "# Supprimer les colonnes 'Nombre de candidats bacheliers ayant confirmé au moins un vœu' et 'Nombre de candidats bacheliers ayant reçu au moins une proposition d'admission'\n",
    "df = df.drop(columns=[\"Nombre de candidats bacheliers ayant confirmé au moins un vœu\", \"Nombre de candidats bacheliers ayant reçu au moins une proposition d'admission\"])"
   ]
  },
  {
   "cell_type": "code",
   "execution_count": 67,
   "metadata": {},
   "outputs": [
    {
     "data": {
      "text/html": [
       "<div>\n",
       "<style scoped>\n",
       "    .dataframe tbody tr th:only-of-type {\n",
       "        vertical-align: middle;\n",
       "    }\n",
       "\n",
       "    .dataframe tbody tr th {\n",
       "        vertical-align: top;\n",
       "    }\n",
       "\n",
       "    .dataframe thead th {\n",
       "        text-align: right;\n",
       "    }\n",
       "</style>\n",
       "<table border=\"1\" class=\"dataframe\">\n",
       "  <thead>\n",
       "    <tr style=\"text-align: right;\">\n",
       "      <th></th>\n",
       "      <th>Année du Baccalauréat</th>\n",
       "      <th>Enseignements de spécialité</th>\n",
       "      <th>Formation</th>\n",
       "      <th>Nombre de candidats bacheliers ayant accepté une proposition d'admission</th>\n",
       "    </tr>\n",
       "  </thead>\n",
       "  <tbody>\n",
       "    <tr>\n",
       "      <th>0</th>\n",
       "      <td>2021</td>\n",
       "      <td>Art,Art</td>\n",
       "      <td>Licence Chimie</td>\n",
       "      <td>0</td>\n",
       "    </tr>\n",
       "    <tr>\n",
       "      <th>1</th>\n",
       "      <td>2021</td>\n",
       "      <td>Art,Art</td>\n",
       "      <td>Licence Langues et littératures françaises</td>\n",
       "      <td>0</td>\n",
       "    </tr>\n",
       "    <tr>\n",
       "      <th>2</th>\n",
       "      <td>2021</td>\n",
       "      <td>Art,Art</td>\n",
       "      <td>Licence Philosophie, Epistémologie</td>\n",
       "      <td>0</td>\n",
       "    </tr>\n",
       "    <tr>\n",
       "      <th>3</th>\n",
       "      <td>2021</td>\n",
       "      <td>Art,Art</td>\n",
       "      <td>Licence Physique</td>\n",
       "      <td>0</td>\n",
       "    </tr>\n",
       "    <tr>\n",
       "      <th>4</th>\n",
       "      <td>2021</td>\n",
       "      <td>Art,Art</td>\n",
       "      <td>Licence Pluri Droit - Sciences éco - AES</td>\n",
       "      <td>0</td>\n",
       "    </tr>\n",
       "  </tbody>\n",
       "</table>\n",
       "</div>"
      ],
      "text/plain": [
       "   Année du Baccalauréat Enseignements de spécialité  \\\n",
       "0                   2021                     Art,Art   \n",
       "1                   2021                     Art,Art   \n",
       "2                   2021                     Art,Art   \n",
       "3                   2021                     Art,Art   \n",
       "4                   2021                     Art,Art   \n",
       "\n",
       "                                    Formation  \\\n",
       "0                              Licence Chimie   \n",
       "1  Licence Langues et littératures françaises   \n",
       "2          Licence Philosophie, Epistémologie   \n",
       "3                            Licence Physique   \n",
       "4    Licence Pluri Droit - Sciences éco - AES   \n",
       "\n",
       "   Nombre de candidats bacheliers ayant accepté une proposition d'admission  \n",
       "0                                                  0                         \n",
       "1                                                  0                         \n",
       "2                                                  0                         \n",
       "3                                                  0                         \n",
       "4                                                  0                         "
      ]
     },
     "execution_count": 67,
     "metadata": {},
     "output_type": "execute_result"
    }
   ],
   "source": [
    "df.head()"
   ]
  },
  {
   "cell_type": "code",
   "execution_count": 68,
   "metadata": {},
   "outputs": [],
   "source": [
    "# Renommer la colonne 'Nombre de candidats bacheliers ayant accepté une proposition d'admission' en 'nb_acceptation'\n",
    "df = df.rename(columns={\"Nombre de candidats bacheliers ayant accepté une proposition d'admission\": 'nb_acceptation'})"
   ]
  },
  {
   "cell_type": "code",
   "execution_count": 70,
   "metadata": {},
   "outputs": [
    {
     "data": {
      "text/html": [
       "<div>\n",
       "<style scoped>\n",
       "    .dataframe tbody tr th:only-of-type {\n",
       "        vertical-align: middle;\n",
       "    }\n",
       "\n",
       "    .dataframe tbody tr th {\n",
       "        vertical-align: top;\n",
       "    }\n",
       "\n",
       "    .dataframe thead th {\n",
       "        text-align: right;\n",
       "    }\n",
       "</style>\n",
       "<table border=\"1\" class=\"dataframe\">\n",
       "  <thead>\n",
       "    <tr style=\"text-align: right;\">\n",
       "      <th></th>\n",
       "      <th>Année du Baccalauréat</th>\n",
       "      <th>Enseignements de spécialité</th>\n",
       "      <th>Formation</th>\n",
       "      <th>nb_acceptation</th>\n",
       "    </tr>\n",
       "  </thead>\n",
       "  <tbody>\n",
       "    <tr>\n",
       "      <th>0</th>\n",
       "      <td>2021</td>\n",
       "      <td>Art,Art</td>\n",
       "      <td>Licence Chimie</td>\n",
       "      <td>0</td>\n",
       "    </tr>\n",
       "    <tr>\n",
       "      <th>1</th>\n",
       "      <td>2021</td>\n",
       "      <td>Art,Art</td>\n",
       "      <td>Licence Langues et littératures françaises</td>\n",
       "      <td>0</td>\n",
       "    </tr>\n",
       "    <tr>\n",
       "      <th>2</th>\n",
       "      <td>2021</td>\n",
       "      <td>Art,Art</td>\n",
       "      <td>Licence Philosophie, Epistémologie</td>\n",
       "      <td>0</td>\n",
       "    </tr>\n",
       "    <tr>\n",
       "      <th>3</th>\n",
       "      <td>2021</td>\n",
       "      <td>Art,Art</td>\n",
       "      <td>Licence Physique</td>\n",
       "      <td>0</td>\n",
       "    </tr>\n",
       "    <tr>\n",
       "      <th>4</th>\n",
       "      <td>2021</td>\n",
       "      <td>Art,Art</td>\n",
       "      <td>Licence Pluri Droit - Sciences éco - AES</td>\n",
       "      <td>0</td>\n",
       "    </tr>\n",
       "  </tbody>\n",
       "</table>\n",
       "</div>"
      ],
      "text/plain": [
       "   Année du Baccalauréat Enseignements de spécialité  \\\n",
       "0                   2021                     Art,Art   \n",
       "1                   2021                     Art,Art   \n",
       "2                   2021                     Art,Art   \n",
       "3                   2021                     Art,Art   \n",
       "4                   2021                     Art,Art   \n",
       "\n",
       "                                    Formation  nb_acceptation  \n",
       "0                              Licence Chimie               0  \n",
       "1  Licence Langues et littératures françaises               0  \n",
       "2          Licence Philosophie, Epistémologie               0  \n",
       "3                            Licence Physique               0  \n",
       "4    Licence Pluri Droit - Sciences éco - AES               0  "
      ]
     },
     "execution_count": 70,
     "metadata": {},
     "output_type": "execute_result"
    }
   ],
   "source": [
    "df.head()"
   ]
  },
  {
   "cell_type": "code",
   "execution_count": 71,
   "metadata": {},
   "outputs": [],
   "source": [
    "# Calculer le total des nb_acceptation par Année et Formation\n",
    "totals = df.groupby(['Année du Baccalauréat', 'Formation'])['nb_acceptation'].transform('sum')\n",
    "\n",
    "# Calculer le pourcentage de nb_acceptation par Spé au sein de chaque groupe Année, Formation\n",
    "df['pourcentage_acceptation_grFormation'] = (df['nb_acceptation'] / totals) * 100"
   ]
  },
  {
   "cell_type": "code",
   "execution_count": 72,
   "metadata": {},
   "outputs": [
    {
     "data": {
      "text/html": [
       "<div>\n",
       "<style scoped>\n",
       "    .dataframe tbody tr th:only-of-type {\n",
       "        vertical-align: middle;\n",
       "    }\n",
       "\n",
       "    .dataframe tbody tr th {\n",
       "        vertical-align: top;\n",
       "    }\n",
       "\n",
       "    .dataframe thead th {\n",
       "        text-align: right;\n",
       "    }\n",
       "</style>\n",
       "<table border=\"1\" class=\"dataframe\">\n",
       "  <thead>\n",
       "    <tr style=\"text-align: right;\">\n",
       "      <th></th>\n",
       "      <th>Année du Baccalauréat</th>\n",
       "      <th>Enseignements de spécialité</th>\n",
       "      <th>Formation</th>\n",
       "      <th>nb_acceptation</th>\n",
       "      <th>pourcentage_acceptation_grFormation</th>\n",
       "    </tr>\n",
       "  </thead>\n",
       "  <tbody>\n",
       "    <tr>\n",
       "      <th>12605</th>\n",
       "      <td>2023</td>\n",
       "      <td>Sciences de la vie et de la Terre Spécialité,É...</td>\n",
       "      <td>Licence Histoire</td>\n",
       "      <td>7</td>\n",
       "      <td>0.070042</td>\n",
       "    </tr>\n",
       "    <tr>\n",
       "      <th>12606</th>\n",
       "      <td>2023</td>\n",
       "      <td>Sciences de la vie et de la Terre Spécialité,É...</td>\n",
       "      <td>Licence Langues et littératures étrangères</td>\n",
       "      <td>5</td>\n",
       "      <td>0.047874</td>\n",
       "    </tr>\n",
       "    <tr>\n",
       "      <th>12607</th>\n",
       "      <td>2023</td>\n",
       "      <td>Sciences de la vie et de la Terre Spécialité,É...</td>\n",
       "      <td>Licence Physique</td>\n",
       "      <td>0</td>\n",
       "      <td>0.000000</td>\n",
       "    </tr>\n",
       "    <tr>\n",
       "      <th>12608</th>\n",
       "      <td>2023</td>\n",
       "      <td>Sciences de la vie et de la Terre Spécialité,É...</td>\n",
       "      <td>Licence Pluri Langues</td>\n",
       "      <td>0</td>\n",
       "      <td>0.000000</td>\n",
       "    </tr>\n",
       "    <tr>\n",
       "      <th>12609</th>\n",
       "      <td>2023</td>\n",
       "      <td>Sciences de la vie et de la Terre Spécialité,É...</td>\n",
       "      <td>Licence Sciences juridiques</td>\n",
       "      <td>7</td>\n",
       "      <td>0.021469</td>\n",
       "    </tr>\n",
       "  </tbody>\n",
       "</table>\n",
       "</div>"
      ],
      "text/plain": [
       "       Année du Baccalauréat  \\\n",
       "12605                   2023   \n",
       "12606                   2023   \n",
       "12607                   2023   \n",
       "12608                   2023   \n",
       "12609                   2023   \n",
       "\n",
       "                             Enseignements de spécialité  \\\n",
       "12605  Sciences de la vie et de la Terre Spécialité,É...   \n",
       "12606  Sciences de la vie et de la Terre Spécialité,É...   \n",
       "12607  Sciences de la vie et de la Terre Spécialité,É...   \n",
       "12608  Sciences de la vie et de la Terre Spécialité,É...   \n",
       "12609  Sciences de la vie et de la Terre Spécialité,É...   \n",
       "\n",
       "                                        Formation  nb_acceptation  \\\n",
       "12605                            Licence Histoire               7   \n",
       "12606  Licence Langues et littératures étrangères               5   \n",
       "12607                            Licence Physique               0   \n",
       "12608                       Licence Pluri Langues               0   \n",
       "12609                 Licence Sciences juridiques               7   \n",
       "\n",
       "       pourcentage_acceptation_grFormation  \n",
       "12605                             0.070042  \n",
       "12606                             0.047874  \n",
       "12607                             0.000000  \n",
       "12608                             0.000000  \n",
       "12609                             0.021469  "
      ]
     },
     "execution_count": 72,
     "metadata": {},
     "output_type": "execute_result"
    }
   ],
   "source": [
    "df.tail()"
   ]
  },
  {
   "cell_type": "code",
   "execution_count": 73,
   "metadata": {},
   "outputs": [],
   "source": [
    "# Calculer le total des nb_acceptation par Année et Spé\n",
    "totals = df.groupby(['Année du Baccalauréat', 'Enseignements de spécialité'])['nb_acceptation'].transform('sum')\n",
    "\n",
    "# Calculer le pourcentage de nb_acceptation par Spé au sein de chaque groupe Année, Formation\n",
    "df['pourcentage_acceptation_grSpé'] = (df['nb_acceptation'] / totals) * 100"
   ]
  },
  {
   "cell_type": "code",
   "execution_count": 74,
   "metadata": {},
   "outputs": [
    {
     "data": {
      "text/html": [
       "<div>\n",
       "<style scoped>\n",
       "    .dataframe tbody tr th:only-of-type {\n",
       "        vertical-align: middle;\n",
       "    }\n",
       "\n",
       "    .dataframe tbody tr th {\n",
       "        vertical-align: top;\n",
       "    }\n",
       "\n",
       "    .dataframe thead th {\n",
       "        text-align: right;\n",
       "    }\n",
       "</style>\n",
       "<table border=\"1\" class=\"dataframe\">\n",
       "  <thead>\n",
       "    <tr style=\"text-align: right;\">\n",
       "      <th></th>\n",
       "      <th>Année du Baccalauréat</th>\n",
       "      <th>Enseignements de spécialité</th>\n",
       "      <th>Formation</th>\n",
       "      <th>nb_acceptation</th>\n",
       "      <th>pourcentage_acceptation_grFormation</th>\n",
       "      <th>pourcentage_acceptation_grSpé</th>\n",
       "    </tr>\n",
       "  </thead>\n",
       "  <tbody>\n",
       "    <tr>\n",
       "      <th>12605</th>\n",
       "      <td>2023</td>\n",
       "      <td>Sciences de la vie et de la Terre Spécialité,É...</td>\n",
       "      <td>Licence Histoire</td>\n",
       "      <td>7</td>\n",
       "      <td>0.070042</td>\n",
       "      <td>0.715746</td>\n",
       "    </tr>\n",
       "    <tr>\n",
       "      <th>12606</th>\n",
       "      <td>2023</td>\n",
       "      <td>Sciences de la vie et de la Terre Spécialité,É...</td>\n",
       "      <td>Licence Langues et littératures étrangères</td>\n",
       "      <td>5</td>\n",
       "      <td>0.047874</td>\n",
       "      <td>0.511247</td>\n",
       "    </tr>\n",
       "    <tr>\n",
       "      <th>12607</th>\n",
       "      <td>2023</td>\n",
       "      <td>Sciences de la vie et de la Terre Spécialité,É...</td>\n",
       "      <td>Licence Physique</td>\n",
       "      <td>0</td>\n",
       "      <td>0.000000</td>\n",
       "      <td>0.000000</td>\n",
       "    </tr>\n",
       "    <tr>\n",
       "      <th>12608</th>\n",
       "      <td>2023</td>\n",
       "      <td>Sciences de la vie et de la Terre Spécialité,É...</td>\n",
       "      <td>Licence Pluri Langues</td>\n",
       "      <td>0</td>\n",
       "      <td>0.000000</td>\n",
       "      <td>0.000000</td>\n",
       "    </tr>\n",
       "    <tr>\n",
       "      <th>12609</th>\n",
       "      <td>2023</td>\n",
       "      <td>Sciences de la vie et de la Terre Spécialité,É...</td>\n",
       "      <td>Licence Sciences juridiques</td>\n",
       "      <td>7</td>\n",
       "      <td>0.021469</td>\n",
       "      <td>0.715746</td>\n",
       "    </tr>\n",
       "  </tbody>\n",
       "</table>\n",
       "</div>"
      ],
      "text/plain": [
       "       Année du Baccalauréat  \\\n",
       "12605                   2023   \n",
       "12606                   2023   \n",
       "12607                   2023   \n",
       "12608                   2023   \n",
       "12609                   2023   \n",
       "\n",
       "                             Enseignements de spécialité  \\\n",
       "12605  Sciences de la vie et de la Terre Spécialité,É...   \n",
       "12606  Sciences de la vie et de la Terre Spécialité,É...   \n",
       "12607  Sciences de la vie et de la Terre Spécialité,É...   \n",
       "12608  Sciences de la vie et de la Terre Spécialité,É...   \n",
       "12609  Sciences de la vie et de la Terre Spécialité,É...   \n",
       "\n",
       "                                        Formation  nb_acceptation  \\\n",
       "12605                            Licence Histoire               7   \n",
       "12606  Licence Langues et littératures étrangères               5   \n",
       "12607                            Licence Physique               0   \n",
       "12608                       Licence Pluri Langues               0   \n",
       "12609                 Licence Sciences juridiques               7   \n",
       "\n",
       "       pourcentage_acceptation_grFormation  pourcentage_acceptation_grSpé  \n",
       "12605                             0.070042                       0.715746  \n",
       "12606                             0.047874                       0.511247  \n",
       "12607                             0.000000                       0.000000  \n",
       "12608                             0.000000                       0.000000  \n",
       "12609                             0.021469                       0.715746  "
      ]
     },
     "execution_count": 74,
     "metadata": {},
     "output_type": "execute_result"
    }
   ],
   "source": [
    "df.tail()"
   ]
  },
  {
   "cell_type": "code",
   "execution_count": 77,
   "metadata": {},
   "outputs": [],
   "source": [
    "df['Enseignements de spécialité'] = df['Enseignements de spécialité'].str.replace(\n",
    "    'Histoire-Géographie, Géopolitique et Sciences politiques',\n",
    "    'Histoire-Géographie Géopolitique et Sciences politiques'\n",
    ")"
   ]
  },
  {
   "cell_type": "code",
   "execution_count": 78,
   "metadata": {},
   "outputs": [],
   "source": [
    "df['Enseignements de spécialité'] = df['Enseignements de spécialité'].str.replace(\n",
    "    'Humanités, Littérature et Philosophie',\n",
    "    'Humanités Littérature et Philosophie'\n",
    ")"
   ]
  },
  {
   "cell_type": "code",
   "execution_count": 79,
   "metadata": {},
   "outputs": [],
   "source": [
    "df['Enseignements de spécialité'] = df['Enseignements de spécialité'].str.replace(\n",
    "    'Langues, littératures et cultures étrangères et régionales',\n",
    "    'Langues littératures et cultures étrangères et régionales'\n",
    ")"
   ]
  },
  {
   "cell_type": "code",
   "execution_count": 80,
   "metadata": {},
   "outputs": [],
   "source": [
    "df['Enseignements de spécialité'] = df['Enseignements de spécialité'].str.replace(\n",
    "    'Éducation physique, pratiques et culture sportives',\n",
    "    'Éducation physique pratiques et culture sportives'\n",
    ")"
   ]
  },
  {
   "cell_type": "code",
   "execution_count": 81,
   "metadata": {},
   "outputs": [],
   "source": [
    "# Diviser la colonne 'Enseignements de spécialité' en utilisant la virgule comme délimiteur\n",
    "split_columns = df['Enseignements de spécialité'].str.split(',', expand=True)\n",
    "\n",
    "# Renommer les nouvelles colonnes\n",
    "split_columns.columns = [f'Spé_{i+1}' for i in split_columns.columns]\n",
    "\n",
    "# Concaténer les nouvelles colonnes avec le DataFrame original\n",
    "df = pd.concat([df, split_columns], axis=1)"
   ]
  },
  {
   "cell_type": "code",
   "execution_count": 82,
   "metadata": {},
   "outputs": [
    {
     "data": {
      "text/html": [
       "<div>\n",
       "<style scoped>\n",
       "    .dataframe tbody tr th:only-of-type {\n",
       "        vertical-align: middle;\n",
       "    }\n",
       "\n",
       "    .dataframe tbody tr th {\n",
       "        vertical-align: top;\n",
       "    }\n",
       "\n",
       "    .dataframe thead th {\n",
       "        text-align: right;\n",
       "    }\n",
       "</style>\n",
       "<table border=\"1\" class=\"dataframe\">\n",
       "  <thead>\n",
       "    <tr style=\"text-align: right;\">\n",
       "      <th></th>\n",
       "      <th>Année du Baccalauréat</th>\n",
       "      <th>Enseignements de spécialité</th>\n",
       "      <th>Formation</th>\n",
       "      <th>nb_acceptation</th>\n",
       "      <th>pourcentage_acceptation_grFormation</th>\n",
       "      <th>pourcentage_acceptation_grSpé</th>\n",
       "      <th>Spé_1</th>\n",
       "      <th>Spé_2</th>\n",
       "    </tr>\n",
       "  </thead>\n",
       "  <tbody>\n",
       "    <tr>\n",
       "      <th>12605</th>\n",
       "      <td>2023</td>\n",
       "      <td>Sciences de la vie et de la Terre Spécialité,É...</td>\n",
       "      <td>Licence Histoire</td>\n",
       "      <td>7</td>\n",
       "      <td>0.070042</td>\n",
       "      <td>0.715746</td>\n",
       "      <td>Sciences de la vie et de la Terre Spécialité</td>\n",
       "      <td>Éducation physique pratiques et culture sportives</td>\n",
       "    </tr>\n",
       "    <tr>\n",
       "      <th>12606</th>\n",
       "      <td>2023</td>\n",
       "      <td>Sciences de la vie et de la Terre Spécialité,É...</td>\n",
       "      <td>Licence Langues et littératures étrangères</td>\n",
       "      <td>5</td>\n",
       "      <td>0.047874</td>\n",
       "      <td>0.511247</td>\n",
       "      <td>Sciences de la vie et de la Terre Spécialité</td>\n",
       "      <td>Éducation physique pratiques et culture sportives</td>\n",
       "    </tr>\n",
       "    <tr>\n",
       "      <th>12607</th>\n",
       "      <td>2023</td>\n",
       "      <td>Sciences de la vie et de la Terre Spécialité,É...</td>\n",
       "      <td>Licence Physique</td>\n",
       "      <td>0</td>\n",
       "      <td>0.000000</td>\n",
       "      <td>0.000000</td>\n",
       "      <td>Sciences de la vie et de la Terre Spécialité</td>\n",
       "      <td>Éducation physique pratiques et culture sportives</td>\n",
       "    </tr>\n",
       "    <tr>\n",
       "      <th>12608</th>\n",
       "      <td>2023</td>\n",
       "      <td>Sciences de la vie et de la Terre Spécialité,É...</td>\n",
       "      <td>Licence Pluri Langues</td>\n",
       "      <td>0</td>\n",
       "      <td>0.000000</td>\n",
       "      <td>0.000000</td>\n",
       "      <td>Sciences de la vie et de la Terre Spécialité</td>\n",
       "      <td>Éducation physique pratiques et culture sportives</td>\n",
       "    </tr>\n",
       "    <tr>\n",
       "      <th>12609</th>\n",
       "      <td>2023</td>\n",
       "      <td>Sciences de la vie et de la Terre Spécialité,É...</td>\n",
       "      <td>Licence Sciences juridiques</td>\n",
       "      <td>7</td>\n",
       "      <td>0.021469</td>\n",
       "      <td>0.715746</td>\n",
       "      <td>Sciences de la vie et de la Terre Spécialité</td>\n",
       "      <td>Éducation physique pratiques et culture sportives</td>\n",
       "    </tr>\n",
       "  </tbody>\n",
       "</table>\n",
       "</div>"
      ],
      "text/plain": [
       "       Année du Baccalauréat  \\\n",
       "12605                   2023   \n",
       "12606                   2023   \n",
       "12607                   2023   \n",
       "12608                   2023   \n",
       "12609                   2023   \n",
       "\n",
       "                             Enseignements de spécialité  \\\n",
       "12605  Sciences de la vie et de la Terre Spécialité,É...   \n",
       "12606  Sciences de la vie et de la Terre Spécialité,É...   \n",
       "12607  Sciences de la vie et de la Terre Spécialité,É...   \n",
       "12608  Sciences de la vie et de la Terre Spécialité,É...   \n",
       "12609  Sciences de la vie et de la Terre Spécialité,É...   \n",
       "\n",
       "                                        Formation  nb_acceptation  \\\n",
       "12605                            Licence Histoire               7   \n",
       "12606  Licence Langues et littératures étrangères               5   \n",
       "12607                            Licence Physique               0   \n",
       "12608                       Licence Pluri Langues               0   \n",
       "12609                 Licence Sciences juridiques               7   \n",
       "\n",
       "       pourcentage_acceptation_grFormation  pourcentage_acceptation_grSpé  \\\n",
       "12605                             0.070042                       0.715746   \n",
       "12606                             0.047874                       0.511247   \n",
       "12607                             0.000000                       0.000000   \n",
       "12608                             0.000000                       0.000000   \n",
       "12609                             0.021469                       0.715746   \n",
       "\n",
       "                                              Spé_1  \\\n",
       "12605  Sciences de la vie et de la Terre Spécialité   \n",
       "12606  Sciences de la vie et de la Terre Spécialité   \n",
       "12607  Sciences de la vie et de la Terre Spécialité   \n",
       "12608  Sciences de la vie et de la Terre Spécialité   \n",
       "12609  Sciences de la vie et de la Terre Spécialité   \n",
       "\n",
       "                                                   Spé_2  \n",
       "12605  Éducation physique pratiques et culture sportives  \n",
       "12606  Éducation physique pratiques et culture sportives  \n",
       "12607  Éducation physique pratiques et culture sportives  \n",
       "12608  Éducation physique pratiques et culture sportives  \n",
       "12609  Éducation physique pratiques et culture sportives  "
      ]
     },
     "execution_count": 82,
     "metadata": {},
     "output_type": "execute_result"
    }
   ],
   "source": [
    "df.tail()"
   ]
  },
  {
   "cell_type": "code",
   "execution_count": 83,
   "metadata": {},
   "outputs": [],
   "source": [
    "# Exporter le DataFrame en fichier CSV\n",
    "df.to_csv('formation_spé_pourcentage.csv', index=False)"
   ]
  },
  {
   "cell_type": "code",
   "execution_count": 76,
   "metadata": {},
   "outputs": [
    {
     "data": {
      "text/plain": [
       "(12416, 6)"
      ]
     },
     "execution_count": 76,
     "metadata": {},
     "output_type": "execute_result"
    }
   ],
   "source": [
    "df.shape"
   ]
  },
  {
   "cell_type": "code",
   "execution_count": null,
   "metadata": {},
   "outputs": [],
   "source": []
  },
  {
   "cell_type": "code",
   "execution_count": null,
   "metadata": {},
   "outputs": [],
   "source": []
  },
  {
   "cell_type": "code",
   "execution_count": 33,
   "metadata": {},
   "outputs": [],
   "source": [
    "# Classer les spécialités par 'Année', 'Formation' en fonction de 'Nb_Admis'\n",
    "df['rang'] = df.groupby(['Année du Baccalauréat', 'Formation'])[\"Nombre de candidats bacheliers ayant accepté une proposition d'admission\"].rank(ascending=False, method='first')"
   ]
  },
  {
   "cell_type": "code",
   "execution_count": 49,
   "metadata": {},
   "outputs": [
    {
     "data": {
      "text/plain": [
       "(12416, 6)"
      ]
     },
     "execution_count": 49,
     "metadata": {},
     "output_type": "execute_result"
    }
   ],
   "source": [
    "df.shape"
   ]
  },
  {
   "cell_type": "code",
   "execution_count": 34,
   "metadata": {},
   "outputs": [],
   "source": [
    "# Filtrer les lignes où le 'Rang' est <= 10 par 'Année', 'Formation' et 'Spé'\n",
    "df_filtered = df[df['rang'] <= 10]"
   ]
  },
  {
   "cell_type": "code",
   "execution_count": 36,
   "metadata": {},
   "outputs": [
    {
     "data": {
      "text/plain": [
       "(1950, 7)"
      ]
     },
     "execution_count": 36,
     "metadata": {},
     "output_type": "execute_result"
    }
   ],
   "source": [
    "df_filtered.shape"
   ]
  },
  {
   "cell_type": "code",
   "execution_count": 37,
   "metadata": {},
   "outputs": [],
   "source": [
    "# Exporter le DataFrame en fichier CSV\n",
    "df_filtered.to_csv('formation_Top10spé.csv', index=False)"
   ]
  },
  {
   "cell_type": "code",
   "execution_count": null,
   "metadata": {},
   "outputs": [],
   "source": []
  },
  {
   "cell_type": "code",
   "execution_count": null,
   "metadata": {},
   "outputs": [],
   "source": []
  },
  {
   "cell_type": "code",
   "execution_count": 13,
   "metadata": {},
   "outputs": [],
   "source": [
    "df_2021_22 = df[df['Année du Baccalauréat'].isin([2021, 2022])]"
   ]
  },
  {
   "cell_type": "code",
   "execution_count": 14,
   "metadata": {},
   "outputs": [
    {
     "data": {
      "text/plain": [
       "array([2021, 2022], dtype=int64)"
      ]
     },
     "execution_count": 14,
     "metadata": {},
     "output_type": "execute_result"
    }
   ],
   "source": [
    "df_2021_22['Année du Baccalauréat'].unique()"
   ]
  },
  {
   "cell_type": "code",
   "execution_count": 16,
   "metadata": {},
   "outputs": [
    {
     "data": {
      "text/plain": [
       "(7995, 6)"
      ]
     },
     "execution_count": 16,
     "metadata": {},
     "output_type": "execute_result"
    }
   ],
   "source": [
    "df_2021_22.shape"
   ]
  },
  {
   "cell_type": "code",
   "execution_count": 17,
   "metadata": {},
   "outputs": [
    {
     "data": {
      "text/html": [
       "<div>\n",
       "<style scoped>\n",
       "    .dataframe tbody tr th:only-of-type {\n",
       "        vertical-align: middle;\n",
       "    }\n",
       "\n",
       "    .dataframe tbody tr th {\n",
       "        vertical-align: top;\n",
       "    }\n",
       "\n",
       "    .dataframe thead th {\n",
       "        text-align: right;\n",
       "    }\n",
       "</style>\n",
       "<table border=\"1\" class=\"dataframe\">\n",
       "  <thead>\n",
       "    <tr style=\"text-align: right;\">\n",
       "      <th></th>\n",
       "      <th>Année du Baccalauréat</th>\n",
       "      <th>Enseignements de spécialité</th>\n",
       "      <th>Formation</th>\n",
       "      <th>Nombre de candidats bacheliers ayant confirmé au moins un vœu</th>\n",
       "      <th>Nombre de candidats bacheliers ayant reçu au moins une proposition d'admission</th>\n",
       "      <th>Nombre de candidats bacheliers ayant accepté une proposition d'admission</th>\n",
       "    </tr>\n",
       "  </thead>\n",
       "  <tbody>\n",
       "    <tr>\n",
       "      <th>0</th>\n",
       "      <td>2021</td>\n",
       "      <td>Art,Art</td>\n",
       "      <td>Licence Chimie</td>\n",
       "      <td>0</td>\n",
       "      <td>0.0</td>\n",
       "      <td>0</td>\n",
       "    </tr>\n",
       "    <tr>\n",
       "      <th>1</th>\n",
       "      <td>2021</td>\n",
       "      <td>Art,Art</td>\n",
       "      <td>Licence Langues et littératures françaises</td>\n",
       "      <td>0</td>\n",
       "      <td>0.0</td>\n",
       "      <td>0</td>\n",
       "    </tr>\n",
       "    <tr>\n",
       "      <th>2</th>\n",
       "      <td>2021</td>\n",
       "      <td>Art,Art</td>\n",
       "      <td>Licence Philosophie, Epistémologie</td>\n",
       "      <td>0</td>\n",
       "      <td>0.0</td>\n",
       "      <td>0</td>\n",
       "    </tr>\n",
       "    <tr>\n",
       "      <th>3</th>\n",
       "      <td>2021</td>\n",
       "      <td>Art,Art</td>\n",
       "      <td>Licence Physique</td>\n",
       "      <td>0</td>\n",
       "      <td>0.0</td>\n",
       "      <td>0</td>\n",
       "    </tr>\n",
       "    <tr>\n",
       "      <th>4</th>\n",
       "      <td>2021</td>\n",
       "      <td>Art,Art</td>\n",
       "      <td>Licence Pluri Droit - Sciences éco - AES</td>\n",
       "      <td>0</td>\n",
       "      <td>0.0</td>\n",
       "      <td>0</td>\n",
       "    </tr>\n",
       "  </tbody>\n",
       "</table>\n",
       "</div>"
      ],
      "text/plain": [
       "   Année du Baccalauréat Enseignements de spécialité  \\\n",
       "0                   2021                     Art,Art   \n",
       "1                   2021                     Art,Art   \n",
       "2                   2021                     Art,Art   \n",
       "3                   2021                     Art,Art   \n",
       "4                   2021                     Art,Art   \n",
       "\n",
       "                                    Formation  \\\n",
       "0                              Licence Chimie   \n",
       "1  Licence Langues et littératures françaises   \n",
       "2          Licence Philosophie, Epistémologie   \n",
       "3                            Licence Physique   \n",
       "4    Licence Pluri Droit - Sciences éco - AES   \n",
       "\n",
       "   Nombre de candidats bacheliers ayant confirmé au moins un vœu  \\\n",
       "0                                                  0               \n",
       "1                                                  0               \n",
       "2                                                  0               \n",
       "3                                                  0               \n",
       "4                                                  0               \n",
       "\n",
       "   Nombre de candidats bacheliers ayant reçu au moins une proposition d'admission  \\\n",
       "0                                                0.0                                \n",
       "1                                                0.0                                \n",
       "2                                                0.0                                \n",
       "3                                                0.0                                \n",
       "4                                                0.0                                \n",
       "\n",
       "   Nombre de candidats bacheliers ayant accepté une proposition d'admission  \n",
       "0                                                  0                         \n",
       "1                                                  0                         \n",
       "2                                                  0                         \n",
       "3                                                  0                         \n",
       "4                                                  0                         "
      ]
     },
     "execution_count": 17,
     "metadata": {},
     "output_type": "execute_result"
    }
   ],
   "source": [
    "df_2021_22.head()"
   ]
  },
  {
   "cell_type": "code",
   "execution_count": 20,
   "metadata": {},
   "outputs": [
    {
     "name": "stderr",
     "output_type": "stream",
     "text": [
      "C:\\Users\\dpasq\\AppData\\Local\\Temp\\ipykernel_18296\\1330071978.py:2: SettingWithCopyWarning: \n",
      "A value is trying to be set on a copy of a slice from a DataFrame.\n",
      "Try using .loc[row_indexer,col_indexer] = value instead\n",
      "\n",
      "See the caveats in the documentation: https://pandas.pydata.org/pandas-docs/stable/user_guide/indexing.html#returning-a-view-versus-a-copy\n",
      "  df_2021_22['rang'] = df_2021_22.groupby(['Année du Baccalauréat', 'Formation'])[\"Nombre de candidats bacheliers ayant accepté une proposition d'admission\"].rank(ascending=False, method='first')\n"
     ]
    }
   ],
   "source": [
    "# Classer les spécialités par 'Année', 'Formation' en fonction de 'Nb_Admis'\n",
    "df_2021_22['rang'] = df_2021_22.groupby(['Année du Baccalauréat', 'Formation'])[\"Nombre de candidats bacheliers ayant accepté une proposition d'admission\"].rank(ascending=False, method='first')\n"
   ]
  },
  {
   "cell_type": "code",
   "execution_count": 21,
   "metadata": {},
   "outputs": [
    {
     "data": {
      "text/html": [
       "<div>\n",
       "<style scoped>\n",
       "    .dataframe tbody tr th:only-of-type {\n",
       "        vertical-align: middle;\n",
       "    }\n",
       "\n",
       "    .dataframe tbody tr th {\n",
       "        vertical-align: top;\n",
       "    }\n",
       "\n",
       "    .dataframe thead th {\n",
       "        text-align: right;\n",
       "    }\n",
       "</style>\n",
       "<table border=\"1\" class=\"dataframe\">\n",
       "  <thead>\n",
       "    <tr style=\"text-align: right;\">\n",
       "      <th></th>\n",
       "      <th>Année du Baccalauréat</th>\n",
       "      <th>Enseignements de spécialité</th>\n",
       "      <th>Formation</th>\n",
       "      <th>Nombre de candidats bacheliers ayant confirmé au moins un vœu</th>\n",
       "      <th>Nombre de candidats bacheliers ayant reçu au moins une proposition d'admission</th>\n",
       "      <th>Nombre de candidats bacheliers ayant accepté une proposition d'admission</th>\n",
       "      <th>rang</th>\n",
       "    </tr>\n",
       "  </thead>\n",
       "  <tbody>\n",
       "    <tr>\n",
       "      <th>0</th>\n",
       "      <td>2021</td>\n",
       "      <td>Art,Art</td>\n",
       "      <td>Licence Chimie</td>\n",
       "      <td>0</td>\n",
       "      <td>0.0</td>\n",
       "      <td>0</td>\n",
       "      <td>32.0</td>\n",
       "    </tr>\n",
       "    <tr>\n",
       "      <th>1</th>\n",
       "      <td>2021</td>\n",
       "      <td>Art,Art</td>\n",
       "      <td>Licence Langues et littératures françaises</td>\n",
       "      <td>0</td>\n",
       "      <td>0.0</td>\n",
       "      <td>0</td>\n",
       "      <td>45.0</td>\n",
       "    </tr>\n",
       "    <tr>\n",
       "      <th>2</th>\n",
       "      <td>2021</td>\n",
       "      <td>Art,Art</td>\n",
       "      <td>Licence Philosophie, Epistémologie</td>\n",
       "      <td>0</td>\n",
       "      <td>0.0</td>\n",
       "      <td>0</td>\n",
       "      <td>35.0</td>\n",
       "    </tr>\n",
       "    <tr>\n",
       "      <th>3</th>\n",
       "      <td>2021</td>\n",
       "      <td>Art,Art</td>\n",
       "      <td>Licence Physique</td>\n",
       "      <td>0</td>\n",
       "      <td>0.0</td>\n",
       "      <td>0</td>\n",
       "      <td>28.0</td>\n",
       "    </tr>\n",
       "    <tr>\n",
       "      <th>4</th>\n",
       "      <td>2021</td>\n",
       "      <td>Art,Art</td>\n",
       "      <td>Licence Pluri Droit - Sciences éco - AES</td>\n",
       "      <td>0</td>\n",
       "      <td>0.0</td>\n",
       "      <td>0</td>\n",
       "      <td>10.0</td>\n",
       "    </tr>\n",
       "    <tr>\n",
       "      <th>...</th>\n",
       "      <td>...</td>\n",
       "      <td>...</td>\n",
       "      <td>...</td>\n",
       "      <td>...</td>\n",
       "      <td>...</td>\n",
       "      <td>...</td>\n",
       "      <td>...</td>\n",
       "    </tr>\n",
       "    <tr>\n",
       "      <th>11693</th>\n",
       "      <td>2022</td>\n",
       "      <td>Sciences de la vie et de la Terre Spécialité,S...</td>\n",
       "      <td>Licence Psychlogie, Sciences cognitives</td>\n",
       "      <td>15</td>\n",
       "      <td>6.0</td>\n",
       "      <td>3</td>\n",
       "      <td>44.0</td>\n",
       "    </tr>\n",
       "    <tr>\n",
       "      <th>11694</th>\n",
       "      <td>2022</td>\n",
       "      <td>Sciences de la vie et de la Terre Spécialité,S...</td>\n",
       "      <td>Licence STAPS</td>\n",
       "      <td>51</td>\n",
       "      <td>37.0</td>\n",
       "      <td>20</td>\n",
       "      <td>35.0</td>\n",
       "    </tr>\n",
       "    <tr>\n",
       "      <th>11695</th>\n",
       "      <td>2022</td>\n",
       "      <td>Sciences de la vie et de la Terre Spécialité,S...</td>\n",
       "      <td>Licence Sciences de la vie, biologie, santé</td>\n",
       "      <td>56</td>\n",
       "      <td>30.0</td>\n",
       "      <td>7</td>\n",
       "      <td>17.0</td>\n",
       "    </tr>\n",
       "    <tr>\n",
       "      <th>11696</th>\n",
       "      <td>2022</td>\n",
       "      <td>Sciences de la vie et de la Terre Spécialité,S...</td>\n",
       "      <td>BUT Production</td>\n",
       "      <td>76</td>\n",
       "      <td>38.0</td>\n",
       "      <td>20</td>\n",
       "      <td>30.0</td>\n",
       "    </tr>\n",
       "    <tr>\n",
       "      <th>11697</th>\n",
       "      <td>2022</td>\n",
       "      <td>Sciences de la vie et de la Terre Spécialité,S...</td>\n",
       "      <td>BTS Agricole</td>\n",
       "      <td>20</td>\n",
       "      <td>17.0</td>\n",
       "      <td>8</td>\n",
       "      <td>22.0</td>\n",
       "    </tr>\n",
       "  </tbody>\n",
       "</table>\n",
       "<p>7995 rows × 7 columns</p>\n",
       "</div>"
      ],
      "text/plain": [
       "       Année du Baccalauréat  \\\n",
       "0                       2021   \n",
       "1                       2021   \n",
       "2                       2021   \n",
       "3                       2021   \n",
       "4                       2021   \n",
       "...                      ...   \n",
       "11693                   2022   \n",
       "11694                   2022   \n",
       "11695                   2022   \n",
       "11696                   2022   \n",
       "11697                   2022   \n",
       "\n",
       "                             Enseignements de spécialité  \\\n",
       "0                                                Art,Art   \n",
       "1                                                Art,Art   \n",
       "2                                                Art,Art   \n",
       "3                                                Art,Art   \n",
       "4                                                Art,Art   \n",
       "...                                                  ...   \n",
       "11693  Sciences de la vie et de la Terre Spécialité,S...   \n",
       "11694  Sciences de la vie et de la Terre Spécialité,S...   \n",
       "11695  Sciences de la vie et de la Terre Spécialité,S...   \n",
       "11696  Sciences de la vie et de la Terre Spécialité,S...   \n",
       "11697  Sciences de la vie et de la Terre Spécialité,S...   \n",
       "\n",
       "                                         Formation  \\\n",
       "0                                   Licence Chimie   \n",
       "1       Licence Langues et littératures françaises   \n",
       "2               Licence Philosophie, Epistémologie   \n",
       "3                                 Licence Physique   \n",
       "4         Licence Pluri Droit - Sciences éco - AES   \n",
       "...                                            ...   \n",
       "11693      Licence Psychlogie, Sciences cognitives   \n",
       "11694                                Licence STAPS   \n",
       "11695  Licence Sciences de la vie, biologie, santé   \n",
       "11696                               BUT Production   \n",
       "11697                                 BTS Agricole   \n",
       "\n",
       "       Nombre de candidats bacheliers ayant confirmé au moins un vœu  \\\n",
       "0                                                      0               \n",
       "1                                                      0               \n",
       "2                                                      0               \n",
       "3                                                      0               \n",
       "4                                                      0               \n",
       "...                                                  ...               \n",
       "11693                                                 15               \n",
       "11694                                                 51               \n",
       "11695                                                 56               \n",
       "11696                                                 76               \n",
       "11697                                                 20               \n",
       "\n",
       "       Nombre de candidats bacheliers ayant reçu au moins une proposition d'admission  \\\n",
       "0                                                    0.0                                \n",
       "1                                                    0.0                                \n",
       "2                                                    0.0                                \n",
       "3                                                    0.0                                \n",
       "4                                                    0.0                                \n",
       "...                                                  ...                                \n",
       "11693                                                6.0                                \n",
       "11694                                               37.0                                \n",
       "11695                                               30.0                                \n",
       "11696                                               38.0                                \n",
       "11697                                               17.0                                \n",
       "\n",
       "       Nombre de candidats bacheliers ayant accepté une proposition d'admission  \\\n",
       "0                                                      0                          \n",
       "1                                                      0                          \n",
       "2                                                      0                          \n",
       "3                                                      0                          \n",
       "4                                                      0                          \n",
       "...                                                  ...                          \n",
       "11693                                                  3                          \n",
       "11694                                                 20                          \n",
       "11695                                                  7                          \n",
       "11696                                                 20                          \n",
       "11697                                                  8                          \n",
       "\n",
       "       rang  \n",
       "0      32.0  \n",
       "1      45.0  \n",
       "2      35.0  \n",
       "3      28.0  \n",
       "4      10.0  \n",
       "...     ...  \n",
       "11693  44.0  \n",
       "11694  35.0  \n",
       "11695  17.0  \n",
       "11696  30.0  \n",
       "11697  22.0  \n",
       "\n",
       "[7995 rows x 7 columns]"
      ]
     },
     "execution_count": 21,
     "metadata": {},
     "output_type": "execute_result"
    }
   ],
   "source": [
    "df_2021_22"
   ]
  },
  {
   "cell_type": "code",
   "execution_count": 22,
   "metadata": {},
   "outputs": [],
   "source": [
    "# Filtrer les lignes où le 'Rang' est <= 10 par 'Année', 'Formation' et 'Spé'\n",
    "df_2021_22_filtered = df_2021_22[df_2021_22['rang'] <= 10]"
   ]
  },
  {
   "cell_type": "code",
   "execution_count": 23,
   "metadata": {},
   "outputs": [
    {
     "data": {
      "text/plain": [
       "(1300, 7)"
      ]
     },
     "execution_count": 23,
     "metadata": {},
     "output_type": "execute_result"
    }
   ],
   "source": [
    "df_2021_22_filtered.shape"
   ]
  },
  {
   "cell_type": "code",
   "execution_count": 24,
   "metadata": {},
   "outputs": [
    {
     "data": {
      "text/html": [
       "<div>\n",
       "<style scoped>\n",
       "    .dataframe tbody tr th:only-of-type {\n",
       "        vertical-align: middle;\n",
       "    }\n",
       "\n",
       "    .dataframe tbody tr th {\n",
       "        vertical-align: top;\n",
       "    }\n",
       "\n",
       "    .dataframe thead th {\n",
       "        text-align: right;\n",
       "    }\n",
       "</style>\n",
       "<table border=\"1\" class=\"dataframe\">\n",
       "  <thead>\n",
       "    <tr style=\"text-align: right;\">\n",
       "      <th></th>\n",
       "      <th>Année du Baccalauréat</th>\n",
       "      <th>Enseignements de spécialité</th>\n",
       "      <th>Formation</th>\n",
       "      <th>Nombre de candidats bacheliers ayant confirmé au moins un vœu</th>\n",
       "      <th>Nombre de candidats bacheliers ayant reçu au moins une proposition d'admission</th>\n",
       "      <th>Nombre de candidats bacheliers ayant accepté une proposition d'admission</th>\n",
       "      <th>rang</th>\n",
       "    </tr>\n",
       "  </thead>\n",
       "  <tbody>\n",
       "    <tr>\n",
       "      <th>4</th>\n",
       "      <td>2021</td>\n",
       "      <td>Art,Art</td>\n",
       "      <td>Licence Pluri Droit - Sciences éco - AES</td>\n",
       "      <td>0</td>\n",
       "      <td>0.0</td>\n",
       "      <td>0</td>\n",
       "      <td>10.0</td>\n",
       "    </tr>\n",
       "    <tr>\n",
       "      <th>7</th>\n",
       "      <td>2021</td>\n",
       "      <td>Art,Art</td>\n",
       "      <td>Licence Pluri Sciences fondamentales et applic...</td>\n",
       "      <td>0</td>\n",
       "      <td>0.0</td>\n",
       "      <td>0</td>\n",
       "      <td>3.0</td>\n",
       "    </tr>\n",
       "    <tr>\n",
       "      <th>16</th>\n",
       "      <td>2021</td>\n",
       "      <td>Art,Art</td>\n",
       "      <td>Formations des écoles nationales vétérinaires</td>\n",
       "      <td>0</td>\n",
       "      <td>0.0</td>\n",
       "      <td>0</td>\n",
       "      <td>6.0</td>\n",
       "    </tr>\n",
       "    <tr>\n",
       "      <th>34</th>\n",
       "      <td>2021</td>\n",
       "      <td>Art,Humanités, Littérature et Philosophie</td>\n",
       "      <td>Licence Langues et littératures françaises</td>\n",
       "      <td>1097</td>\n",
       "      <td>838.0</td>\n",
       "      <td>234</td>\n",
       "      <td>6.0</td>\n",
       "    </tr>\n",
       "    <tr>\n",
       "      <th>36</th>\n",
       "      <td>2021</td>\n",
       "      <td>Art,Humanités, Littérature et Philosophie</td>\n",
       "      <td>Licence Philosophie, Epistémologie</td>\n",
       "      <td>544</td>\n",
       "      <td>398.0</td>\n",
       "      <td>89</td>\n",
       "      <td>5.0</td>\n",
       "    </tr>\n",
       "  </tbody>\n",
       "</table>\n",
       "</div>"
      ],
      "text/plain": [
       "    Année du Baccalauréat                Enseignements de spécialité  \\\n",
       "4                    2021                                    Art,Art   \n",
       "7                    2021                                    Art,Art   \n",
       "16                   2021                                    Art,Art   \n",
       "34                   2021  Art,Humanités, Littérature et Philosophie   \n",
       "36                   2021  Art,Humanités, Littérature et Philosophie   \n",
       "\n",
       "                                            Formation  \\\n",
       "4            Licence Pluri Droit - Sciences éco - AES   \n",
       "7   Licence Pluri Sciences fondamentales et applic...   \n",
       "16      Formations des écoles nationales vétérinaires   \n",
       "34         Licence Langues et littératures françaises   \n",
       "36                 Licence Philosophie, Epistémologie   \n",
       "\n",
       "    Nombre de candidats bacheliers ayant confirmé au moins un vœu  \\\n",
       "4                                                   0               \n",
       "7                                                   0               \n",
       "16                                                  0               \n",
       "34                                               1097               \n",
       "36                                                544               \n",
       "\n",
       "    Nombre de candidats bacheliers ayant reçu au moins une proposition d'admission  \\\n",
       "4                                                 0.0                                \n",
       "7                                                 0.0                                \n",
       "16                                                0.0                                \n",
       "34                                              838.0                                \n",
       "36                                              398.0                                \n",
       "\n",
       "    Nombre de candidats bacheliers ayant accepté une proposition d'admission  \\\n",
       "4                                                   0                          \n",
       "7                                                   0                          \n",
       "16                                                  0                          \n",
       "34                                                234                          \n",
       "36                                                 89                          \n",
       "\n",
       "    rang  \n",
       "4   10.0  \n",
       "7    3.0  \n",
       "16   6.0  \n",
       "34   6.0  \n",
       "36   5.0  "
      ]
     },
     "execution_count": 24,
     "metadata": {},
     "output_type": "execute_result"
    }
   ],
   "source": [
    "df_2021_22_filtered.head()"
   ]
  },
  {
   "cell_type": "code",
   "execution_count": 25,
   "metadata": {},
   "outputs": [],
   "source": [
    "# Exporter le DataFrame en fichier CSV\n",
    "df_2021_22_filtered.to_csv('formation_Top10spé_2021_22.csv', index=False)"
   ]
  },
  {
   "cell_type": "code",
   "execution_count": 26,
   "metadata": {},
   "outputs": [],
   "source": [
    "df_2023 = df[df['Année du Baccalauréat'].isin([2023])]"
   ]
  },
  {
   "cell_type": "code",
   "execution_count": 27,
   "metadata": {},
   "outputs": [
    {
     "data": {
      "text/plain": [
       "array([2023], dtype=int64)"
      ]
     },
     "execution_count": 27,
     "metadata": {},
     "output_type": "execute_result"
    }
   ],
   "source": [
    "df_2023['Année du Baccalauréat'].unique()"
   ]
  },
  {
   "cell_type": "code",
   "execution_count": 28,
   "metadata": {},
   "outputs": [
    {
     "data": {
      "text/plain": [
       "(4615, 6)"
      ]
     },
     "execution_count": 28,
     "metadata": {},
     "output_type": "execute_result"
    }
   ],
   "source": [
    "df_2023.shape"
   ]
  },
  {
   "cell_type": "code",
   "execution_count": 29,
   "metadata": {},
   "outputs": [
    {
     "data": {
      "text/html": [
       "<div>\n",
       "<style scoped>\n",
       "    .dataframe tbody tr th:only-of-type {\n",
       "        vertical-align: middle;\n",
       "    }\n",
       "\n",
       "    .dataframe tbody tr th {\n",
       "        vertical-align: top;\n",
       "    }\n",
       "\n",
       "    .dataframe thead th {\n",
       "        text-align: right;\n",
       "    }\n",
       "</style>\n",
       "<table border=\"1\" class=\"dataframe\">\n",
       "  <thead>\n",
       "    <tr style=\"text-align: right;\">\n",
       "      <th></th>\n",
       "      <th>Année du Baccalauréat</th>\n",
       "      <th>Enseignements de spécialité</th>\n",
       "      <th>Formation</th>\n",
       "      <th>Nombre de candidats bacheliers ayant confirmé au moins un vœu</th>\n",
       "      <th>Nombre de candidats bacheliers ayant reçu au moins une proposition d'admission</th>\n",
       "      <th>Nombre de candidats bacheliers ayant accepté une proposition d'admission</th>\n",
       "    </tr>\n",
       "  </thead>\n",
       "  <tbody>\n",
       "    <tr>\n",
       "      <th>1607</th>\n",
       "      <td>2023</td>\n",
       "      <td>Art,Art</td>\n",
       "      <td>BTS Service</td>\n",
       "      <td>0</td>\n",
       "      <td>0.0</td>\n",
       "      <td>0</td>\n",
       "    </tr>\n",
       "    <tr>\n",
       "      <th>1608</th>\n",
       "      <td>2023</td>\n",
       "      <td>Art,Art</td>\n",
       "      <td>BUT Production</td>\n",
       "      <td>0</td>\n",
       "      <td>0.0</td>\n",
       "      <td>0</td>\n",
       "    </tr>\n",
       "    <tr>\n",
       "      <th>1609</th>\n",
       "      <td>2023</td>\n",
       "      <td>Art,Art</td>\n",
       "      <td>BUT Service</td>\n",
       "      <td>0</td>\n",
       "      <td>0.0</td>\n",
       "      <td>0</td>\n",
       "    </tr>\n",
       "    <tr>\n",
       "      <th>1610</th>\n",
       "      <td>2023</td>\n",
       "      <td>Art,Art</td>\n",
       "      <td>CUPGE</td>\n",
       "      <td>0</td>\n",
       "      <td>0.0</td>\n",
       "      <td>0</td>\n",
       "    </tr>\n",
       "    <tr>\n",
       "      <th>1611</th>\n",
       "      <td>2023</td>\n",
       "      <td>Art,Art</td>\n",
       "      <td>DEUST</td>\n",
       "      <td>0</td>\n",
       "      <td>0.0</td>\n",
       "      <td>0</td>\n",
       "    </tr>\n",
       "  </tbody>\n",
       "</table>\n",
       "</div>"
      ],
      "text/plain": [
       "      Année du Baccalauréat Enseignements de spécialité       Formation  \\\n",
       "1607                   2023                     Art,Art     BTS Service   \n",
       "1608                   2023                     Art,Art  BUT Production   \n",
       "1609                   2023                     Art,Art     BUT Service   \n",
       "1610                   2023                     Art,Art           CUPGE   \n",
       "1611                   2023                     Art,Art           DEUST   \n",
       "\n",
       "      Nombre de candidats bacheliers ayant confirmé au moins un vœu  \\\n",
       "1607                                                  0               \n",
       "1608                                                  0               \n",
       "1609                                                  0               \n",
       "1610                                                  0               \n",
       "1611                                                  0               \n",
       "\n",
       "      Nombre de candidats bacheliers ayant reçu au moins une proposition d'admission  \\\n",
       "1607                                                0.0                                \n",
       "1608                                                0.0                                \n",
       "1609                                                0.0                                \n",
       "1610                                                0.0                                \n",
       "1611                                                0.0                                \n",
       "\n",
       "      Nombre de candidats bacheliers ayant accepté une proposition d'admission  \n",
       "1607                                                  0                         \n",
       "1608                                                  0                         \n",
       "1609                                                  0                         \n",
       "1610                                                  0                         \n",
       "1611                                                  0                         "
      ]
     },
     "execution_count": 29,
     "metadata": {},
     "output_type": "execute_result"
    }
   ],
   "source": [
    "df_2023.head()"
   ]
  },
  {
   "cell_type": "code",
   "execution_count": 30,
   "metadata": {},
   "outputs": [
    {
     "name": "stderr",
     "output_type": "stream",
     "text": [
      "C:\\Users\\dpasq\\AppData\\Local\\Temp\\ipykernel_18296\\307878724.py:2: SettingWithCopyWarning: \n",
      "A value is trying to be set on a copy of a slice from a DataFrame.\n",
      "Try using .loc[row_indexer,col_indexer] = value instead\n",
      "\n",
      "See the caveats in the documentation: https://pandas.pydata.org/pandas-docs/stable/user_guide/indexing.html#returning-a-view-versus-a-copy\n",
      "  df_2023['rang'] = df_2023.groupby(['Année du Baccalauréat', 'Formation'])[\"Nombre de candidats bacheliers ayant accepté une proposition d'admission\"].rank(ascending=False, method='first')\n"
     ]
    }
   ],
   "source": [
    "# Classer les spécialités par 'Année', 'Formation' en fonction de 'Nb_Admis'\n",
    "df_2023['rang'] = df_2023.groupby(['Année du Baccalauréat', 'Formation'])[\"Nombre de candidats bacheliers ayant accepté une proposition d'admission\"].rank(ascending=False, method='first')"
   ]
  },
  {
   "cell_type": "code",
   "execution_count": 31,
   "metadata": {},
   "outputs": [],
   "source": [
    "# Filtrer les lignes où le 'Rang' est <= 10 par 'Année', 'Formation' et 'Spé'\n",
    "df_2023_filtered = df_2023[df_2023['rang'] <= 10]"
   ]
  },
  {
   "cell_type": "code",
   "execution_count": null,
   "metadata": {},
   "outputs": [],
   "source": [
    "# Exporter le DataFrame en fichier CSV\n",
    "df_2023_filtered.to_csv('formation_Top10spé_2023.csv', index=False)"
   ]
  },
  {
   "cell_type": "code",
   "execution_count": null,
   "metadata": {},
   "outputs": [],
   "source": []
  }
 ],
 "metadata": {
  "kernelspec": {
   "display_name": "base",
   "language": "python",
   "name": "python3"
  },
  "language_info": {
   "codemirror_mode": {
    "name": "ipython",
    "version": 3
   },
   "file_extension": ".py",
   "mimetype": "text/x-python",
   "name": "python",
   "nbconvert_exporter": "python",
   "pygments_lexer": "ipython3",
   "version": "3.12.7"
  }
 },
 "nbformat": 4,
 "nbformat_minor": 2
}
