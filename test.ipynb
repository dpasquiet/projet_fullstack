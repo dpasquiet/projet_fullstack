{
 "cells": [
  {
   "cell_type": "code",
   "execution_count": 2,
   "metadata": {},
   "outputs": [],
   "source": [
    "import pandas as pd"
   ]
  },
  {
   "cell_type": "code",
   "execution_count": 6,
   "metadata": {},
   "outputs": [],
   "source": [
    "# Exemple de données\n",
    "data = {\n",
    "    'Spé1': ['A', 'C', 'B', 'A', 'B'],\n",
    "    'Spé2': ['B', 'A', 'C', 'D', 'D'],\n",
    "    'Total': [10, 20, 30, 40, 25]\n",
    "}\n",
    "\n",
    "# Créer un DataFrame\n",
    "df = pd.DataFrame(data)"
   ]
  },
  {
   "cell_type": "code",
   "execution_count": 7,
   "metadata": {},
   "outputs": [
    {
     "data": {
      "text/html": [
       "<div>\n",
       "<style scoped>\n",
       "    .dataframe tbody tr th:only-of-type {\n",
       "        vertical-align: middle;\n",
       "    }\n",
       "\n",
       "    .dataframe tbody tr th {\n",
       "        vertical-align: top;\n",
       "    }\n",
       "\n",
       "    .dataframe thead th {\n",
       "        text-align: right;\n",
       "    }\n",
       "</style>\n",
       "<table border=\"1\" class=\"dataframe\">\n",
       "  <thead>\n",
       "    <tr style=\"text-align: right;\">\n",
       "      <th></th>\n",
       "      <th>Spé1</th>\n",
       "      <th>Spé2</th>\n",
       "      <th>Total</th>\n",
       "    </tr>\n",
       "  </thead>\n",
       "  <tbody>\n",
       "    <tr>\n",
       "      <th>0</th>\n",
       "      <td>A</td>\n",
       "      <td>B</td>\n",
       "      <td>10</td>\n",
       "    </tr>\n",
       "    <tr>\n",
       "      <th>1</th>\n",
       "      <td>C</td>\n",
       "      <td>A</td>\n",
       "      <td>20</td>\n",
       "    </tr>\n",
       "    <tr>\n",
       "      <th>2</th>\n",
       "      <td>B</td>\n",
       "      <td>C</td>\n",
       "      <td>30</td>\n",
       "    </tr>\n",
       "    <tr>\n",
       "      <th>3</th>\n",
       "      <td>A</td>\n",
       "      <td>D</td>\n",
       "      <td>40</td>\n",
       "    </tr>\n",
       "    <tr>\n",
       "      <th>4</th>\n",
       "      <td>B</td>\n",
       "      <td>D</td>\n",
       "      <td>25</td>\n",
       "    </tr>\n",
       "  </tbody>\n",
       "</table>\n",
       "</div>"
      ],
      "text/plain": [
       "  Spé1 Spé2  Total\n",
       "0    A    B     10\n",
       "1    C    A     20\n",
       "2    B    C     30\n",
       "3    A    D     40\n",
       "4    B    D     25"
      ]
     },
     "execution_count": 7,
     "metadata": {},
     "output_type": "execute_result"
    }
   ],
   "source": [
    "df"
   ]
  },
  {
   "cell_type": "code",
   "execution_count": 8,
   "metadata": {},
   "outputs": [],
   "source": [
    "# Trier les valeurs de 'Spé1' et 'Spé2' pour chaque ligne\n",
    "df[['Spé1', 'Spé2']] = pd.DataFrame(\n",
    "    df.apply(lambda row: sorted([row['Spé1'], row['Spé2']]), axis=1).tolist(),\n",
    "    index=df.index\n",
    ")"
   ]
  },
  {
   "cell_type": "code",
   "execution_count": 9,
   "metadata": {},
   "outputs": [
    {
     "data": {
      "text/html": [
       "<div>\n",
       "<style scoped>\n",
       "    .dataframe tbody tr th:only-of-type {\n",
       "        vertical-align: middle;\n",
       "    }\n",
       "\n",
       "    .dataframe tbody tr th {\n",
       "        vertical-align: top;\n",
       "    }\n",
       "\n",
       "    .dataframe thead th {\n",
       "        text-align: right;\n",
       "    }\n",
       "</style>\n",
       "<table border=\"1\" class=\"dataframe\">\n",
       "  <thead>\n",
       "    <tr style=\"text-align: right;\">\n",
       "      <th></th>\n",
       "      <th>Spé1</th>\n",
       "      <th>Spé2</th>\n",
       "      <th>Total</th>\n",
       "    </tr>\n",
       "  </thead>\n",
       "  <tbody>\n",
       "    <tr>\n",
       "      <th>0</th>\n",
       "      <td>A</td>\n",
       "      <td>B</td>\n",
       "      <td>10</td>\n",
       "    </tr>\n",
       "    <tr>\n",
       "      <th>1</th>\n",
       "      <td>A</td>\n",
       "      <td>C</td>\n",
       "      <td>20</td>\n",
       "    </tr>\n",
       "    <tr>\n",
       "      <th>2</th>\n",
       "      <td>B</td>\n",
       "      <td>C</td>\n",
       "      <td>30</td>\n",
       "    </tr>\n",
       "    <tr>\n",
       "      <th>3</th>\n",
       "      <td>A</td>\n",
       "      <td>D</td>\n",
       "      <td>40</td>\n",
       "    </tr>\n",
       "    <tr>\n",
       "      <th>4</th>\n",
       "      <td>B</td>\n",
       "      <td>D</td>\n",
       "      <td>25</td>\n",
       "    </tr>\n",
       "  </tbody>\n",
       "</table>\n",
       "</div>"
      ],
      "text/plain": [
       "  Spé1 Spé2  Total\n",
       "0    A    B     10\n",
       "1    A    C     20\n",
       "2    B    C     30\n",
       "3    A    D     40\n",
       "4    B    D     25"
      ]
     },
     "execution_count": 9,
     "metadata": {},
     "output_type": "execute_result"
    }
   ],
   "source": [
    "df"
   ]
  },
  {
   "cell_type": "code",
   "execution_count": 10,
   "metadata": {},
   "outputs": [],
   "source": [
    "# Supprimer les doublons en conservant la première occurrence\n",
    "df_unique = df.drop_duplicates(subset=['Spé1', 'Spé2'])"
   ]
  },
  {
   "cell_type": "code",
   "execution_count": 11,
   "metadata": {},
   "outputs": [
    {
     "data": {
      "text/html": [
       "<div>\n",
       "<style scoped>\n",
       "    .dataframe tbody tr th:only-of-type {\n",
       "        vertical-align: middle;\n",
       "    }\n",
       "\n",
       "    .dataframe tbody tr th {\n",
       "        vertical-align: top;\n",
       "    }\n",
       "\n",
       "    .dataframe thead th {\n",
       "        text-align: right;\n",
       "    }\n",
       "</style>\n",
       "<table border=\"1\" class=\"dataframe\">\n",
       "  <thead>\n",
       "    <tr style=\"text-align: right;\">\n",
       "      <th></th>\n",
       "      <th>Spé1</th>\n",
       "      <th>Spé2</th>\n",
       "      <th>Total</th>\n",
       "    </tr>\n",
       "  </thead>\n",
       "  <tbody>\n",
       "    <tr>\n",
       "      <th>0</th>\n",
       "      <td>A</td>\n",
       "      <td>B</td>\n",
       "      <td>10</td>\n",
       "    </tr>\n",
       "    <tr>\n",
       "      <th>1</th>\n",
       "      <td>A</td>\n",
       "      <td>C</td>\n",
       "      <td>20</td>\n",
       "    </tr>\n",
       "    <tr>\n",
       "      <th>2</th>\n",
       "      <td>B</td>\n",
       "      <td>C</td>\n",
       "      <td>30</td>\n",
       "    </tr>\n",
       "    <tr>\n",
       "      <th>3</th>\n",
       "      <td>A</td>\n",
       "      <td>D</td>\n",
       "      <td>40</td>\n",
       "    </tr>\n",
       "    <tr>\n",
       "      <th>4</th>\n",
       "      <td>B</td>\n",
       "      <td>D</td>\n",
       "      <td>25</td>\n",
       "    </tr>\n",
       "  </tbody>\n",
       "</table>\n",
       "</div>"
      ],
      "text/plain": [
       "  Spé1 Spé2  Total\n",
       "0    A    B     10\n",
       "1    A    C     20\n",
       "2    B    C     30\n",
       "3    A    D     40\n",
       "4    B    D     25"
      ]
     },
     "execution_count": 11,
     "metadata": {},
     "output_type": "execute_result"
    }
   ],
   "source": [
    "df_unique"
   ]
  },
  {
   "cell_type": "markdown",
   "metadata": {},
   "source": [
    "## Spliter une colonne de data frame avec le caractère ',' en délimiteur"
   ]
  },
  {
   "cell_type": "code",
   "execution_count": 2,
   "metadata": {},
   "outputs": [],
   "source": [
    "# Exemple de données\n",
    "data = {\n",
    "    'Matière': [\n",
    "        'Histoire-Géographie, Géopolitique et Sciences politiques',\n",
    "        'Mathématiques, Physique',\n",
    "        'Histoire-Géographie, Géopolitique',\n",
    "        'Physique, Chimie'\n",
    "    ],\n",
    "    'Total': [10, 20, 30, 40]\n",
    "}\n",
    "\n",
    "# Créer un DataFrame\n",
    "df_test = pd.DataFrame(data)"
   ]
  },
  {
   "cell_type": "code",
   "execution_count": 3,
   "metadata": {},
   "outputs": [
    {
     "data": {
      "text/html": [
       "<div>\n",
       "<style scoped>\n",
       "    .dataframe tbody tr th:only-of-type {\n",
       "        vertical-align: middle;\n",
       "    }\n",
       "\n",
       "    .dataframe tbody tr th {\n",
       "        vertical-align: top;\n",
       "    }\n",
       "\n",
       "    .dataframe thead th {\n",
       "        text-align: right;\n",
       "    }\n",
       "</style>\n",
       "<table border=\"1\" class=\"dataframe\">\n",
       "  <thead>\n",
       "    <tr style=\"text-align: right;\">\n",
       "      <th></th>\n",
       "      <th>Matière</th>\n",
       "      <th>Total</th>\n",
       "    </tr>\n",
       "  </thead>\n",
       "  <tbody>\n",
       "    <tr>\n",
       "      <th>0</th>\n",
       "      <td>Histoire-Géographie, Géopolitique et Sciences ...</td>\n",
       "      <td>10</td>\n",
       "    </tr>\n",
       "    <tr>\n",
       "      <th>1</th>\n",
       "      <td>Mathématiques, Physique</td>\n",
       "      <td>20</td>\n",
       "    </tr>\n",
       "    <tr>\n",
       "      <th>2</th>\n",
       "      <td>Histoire-Géographie, Géopolitique</td>\n",
       "      <td>30</td>\n",
       "    </tr>\n",
       "    <tr>\n",
       "      <th>3</th>\n",
       "      <td>Physique, Chimie</td>\n",
       "      <td>40</td>\n",
       "    </tr>\n",
       "  </tbody>\n",
       "</table>\n",
       "</div>"
      ],
      "text/plain": [
       "                                             Matière  Total\n",
       "0  Histoire-Géographie, Géopolitique et Sciences ...     10\n",
       "1                            Mathématiques, Physique     20\n",
       "2                  Histoire-Géographie, Géopolitique     30\n",
       "3                                   Physique, Chimie     40"
      ]
     },
     "execution_count": 3,
     "metadata": {},
     "output_type": "execute_result"
    }
   ],
   "source": [
    "df_test"
   ]
  },
  {
   "cell_type": "code",
   "execution_count": 4,
   "metadata": {},
   "outputs": [],
   "source": [
    "# Diviser la colonne 'Matière' en utilisant la virgule comme délimiteur\n",
    "split_columns = df_test['Matière'].str.split(', ', expand=True)\n",
    "\n",
    "# Renommer les nouvelles colonnes\n",
    "split_columns.columns = [f'Matière_{i+1}' for i in split_columns.columns]\n",
    "\n",
    "# Concaténer les nouvelles colonnes avec le DataFrame original\n",
    "df_test = pd.concat([df_test, split_columns], axis=1)"
   ]
  },
  {
   "cell_type": "code",
   "execution_count": 5,
   "metadata": {},
   "outputs": [
    {
     "data": {
      "text/html": [
       "<div>\n",
       "<style scoped>\n",
       "    .dataframe tbody tr th:only-of-type {\n",
       "        vertical-align: middle;\n",
       "    }\n",
       "\n",
       "    .dataframe tbody tr th {\n",
       "        vertical-align: top;\n",
       "    }\n",
       "\n",
       "    .dataframe thead th {\n",
       "        text-align: right;\n",
       "    }\n",
       "</style>\n",
       "<table border=\"1\" class=\"dataframe\">\n",
       "  <thead>\n",
       "    <tr style=\"text-align: right;\">\n",
       "      <th></th>\n",
       "      <th>Matière</th>\n",
       "      <th>Total</th>\n",
       "      <th>Matière_1</th>\n",
       "      <th>Matière_2</th>\n",
       "    </tr>\n",
       "  </thead>\n",
       "  <tbody>\n",
       "    <tr>\n",
       "      <th>0</th>\n",
       "      <td>Histoire-Géographie, Géopolitique et Sciences ...</td>\n",
       "      <td>10</td>\n",
       "      <td>Histoire-Géographie</td>\n",
       "      <td>Géopolitique et Sciences politiques</td>\n",
       "    </tr>\n",
       "    <tr>\n",
       "      <th>1</th>\n",
       "      <td>Mathématiques, Physique</td>\n",
       "      <td>20</td>\n",
       "      <td>Mathématiques</td>\n",
       "      <td>Physique</td>\n",
       "    </tr>\n",
       "    <tr>\n",
       "      <th>2</th>\n",
       "      <td>Histoire-Géographie, Géopolitique</td>\n",
       "      <td>30</td>\n",
       "      <td>Histoire-Géographie</td>\n",
       "      <td>Géopolitique</td>\n",
       "    </tr>\n",
       "    <tr>\n",
       "      <th>3</th>\n",
       "      <td>Physique, Chimie</td>\n",
       "      <td>40</td>\n",
       "      <td>Physique</td>\n",
       "      <td>Chimie</td>\n",
       "    </tr>\n",
       "  </tbody>\n",
       "</table>\n",
       "</div>"
      ],
      "text/plain": [
       "                                             Matière  Total  \\\n",
       "0  Histoire-Géographie, Géopolitique et Sciences ...     10   \n",
       "1                            Mathématiques, Physique     20   \n",
       "2                  Histoire-Géographie, Géopolitique     30   \n",
       "3                                   Physique, Chimie     40   \n",
       "\n",
       "             Matière_1                            Matière_2  \n",
       "0  Histoire-Géographie  Géopolitique et Sciences politiques  \n",
       "1        Mathématiques                             Physique  \n",
       "2  Histoire-Géographie                         Géopolitique  \n",
       "3             Physique                               Chimie  "
      ]
     },
     "execution_count": 5,
     "metadata": {},
     "output_type": "execute_result"
    }
   ],
   "source": [
    "# Afficher le DataFrame modifié\n",
    "df_test"
   ]
  },
  {
   "cell_type": "markdown",
   "metadata": {},
   "source": [
    "## J'ai 4 colonnes d'un dataframe 'Année', 'Spé', 'Formation', 'Nb_Admis'. Je veux créer une nouvelle colonne 'rang' qui classe par 'Année', 'Formation', les 'Spé' en fonction du 'Nb_Admis'"
   ]
  },
  {
   "cell_type": "code",
   "execution_count": 6,
   "metadata": {},
   "outputs": [],
   "source": [
    "# Exemple de DataFrame\n",
    "data = {\n",
    "    'Année': [2020, 2020, 2021, 2021, 2020, 2021,2020],\n",
    "    'Spé': ['A', 'B', 'A', 'B', 'C', 'C','D'],\n",
    "    'Formation': ['X', 'X', 'X', 'X', 'Y', 'Y', 'X'],\n",
    "    'Nb_Admis': [100, 150, 200, 250, 300, 350, 125]\n",
    "}\n",
    "\n",
    "df_test = pd.DataFrame(data)\n",
    "\n",
    "# Classer les spécialités par 'Année', 'Formation' en fonction de 'Nb_Admis'\n",
    "df_test['rang'] = df_test.groupby(['Année', 'Formation'])['Nb_Admis'].rank(ascending=False, method='first')"
   ]
  },
  {
   "cell_type": "code",
   "execution_count": 7,
   "metadata": {},
   "outputs": [
    {
     "data": {
      "text/html": [
       "<div>\n",
       "<style scoped>\n",
       "    .dataframe tbody tr th:only-of-type {\n",
       "        vertical-align: middle;\n",
       "    }\n",
       "\n",
       "    .dataframe tbody tr th {\n",
       "        vertical-align: top;\n",
       "    }\n",
       "\n",
       "    .dataframe thead th {\n",
       "        text-align: right;\n",
       "    }\n",
       "</style>\n",
       "<table border=\"1\" class=\"dataframe\">\n",
       "  <thead>\n",
       "    <tr style=\"text-align: right;\">\n",
       "      <th></th>\n",
       "      <th>Année</th>\n",
       "      <th>Spé</th>\n",
       "      <th>Formation</th>\n",
       "      <th>Nb_Admis</th>\n",
       "      <th>rang</th>\n",
       "    </tr>\n",
       "  </thead>\n",
       "  <tbody>\n",
       "    <tr>\n",
       "      <th>0</th>\n",
       "      <td>2020</td>\n",
       "      <td>A</td>\n",
       "      <td>X</td>\n",
       "      <td>100</td>\n",
       "      <td>3.0</td>\n",
       "    </tr>\n",
       "    <tr>\n",
       "      <th>1</th>\n",
       "      <td>2020</td>\n",
       "      <td>B</td>\n",
       "      <td>X</td>\n",
       "      <td>150</td>\n",
       "      <td>1.0</td>\n",
       "    </tr>\n",
       "    <tr>\n",
       "      <th>2</th>\n",
       "      <td>2021</td>\n",
       "      <td>A</td>\n",
       "      <td>X</td>\n",
       "      <td>200</td>\n",
       "      <td>2.0</td>\n",
       "    </tr>\n",
       "    <tr>\n",
       "      <th>3</th>\n",
       "      <td>2021</td>\n",
       "      <td>B</td>\n",
       "      <td>X</td>\n",
       "      <td>250</td>\n",
       "      <td>1.0</td>\n",
       "    </tr>\n",
       "    <tr>\n",
       "      <th>4</th>\n",
       "      <td>2020</td>\n",
       "      <td>C</td>\n",
       "      <td>Y</td>\n",
       "      <td>300</td>\n",
       "      <td>1.0</td>\n",
       "    </tr>\n",
       "    <tr>\n",
       "      <th>5</th>\n",
       "      <td>2021</td>\n",
       "      <td>C</td>\n",
       "      <td>Y</td>\n",
       "      <td>350</td>\n",
       "      <td>1.0</td>\n",
       "    </tr>\n",
       "    <tr>\n",
       "      <th>6</th>\n",
       "      <td>2020</td>\n",
       "      <td>D</td>\n",
       "      <td>X</td>\n",
       "      <td>125</td>\n",
       "      <td>2.0</td>\n",
       "    </tr>\n",
       "  </tbody>\n",
       "</table>\n",
       "</div>"
      ],
      "text/plain": [
       "   Année Spé Formation  Nb_Admis  rang\n",
       "0   2020   A         X       100   3.0\n",
       "1   2020   B         X       150   1.0\n",
       "2   2021   A         X       200   2.0\n",
       "3   2021   B         X       250   1.0\n",
       "4   2020   C         Y       300   1.0\n",
       "5   2021   C         Y       350   1.0\n",
       "6   2020   D         X       125   2.0"
      ]
     },
     "execution_count": 7,
     "metadata": {},
     "output_type": "execute_result"
    }
   ],
   "source": [
    "df_test"
   ]
  },
  {
   "cell_type": "markdown",
   "metadata": {},
   "source": [
    "## Calcul de %age d'acceptation par rapport à Année/Formation/Spé"
   ]
  },
  {
   "cell_type": "code",
   "execution_count": 11,
   "metadata": {},
   "outputs": [],
   "source": [
    "import pandas as pd\n",
    "\n",
    "# Exemple de DataFrame\n",
    "data = {\n",
    "    'Année': [2020, 2020, 2021, 2021, 2020, 2021],\n",
    "    'Spé': ['A', 'B', 'A', 'B', 'A', 'B'],\n",
    "    'Formation': ['X', 'X', 'X', 'X', 'Y', 'Y'],\n",
    "    'nb_acceptation': [100, 150, 200, 250, 300, 350]\n",
    "}\n",
    "\n",
    "df = pd.DataFrame(data)\n",
    "\n",
    "# Calculer le total des nb_acceptation par Année et Formation\n",
    "totals = df.groupby(['Année', 'Formation'])['nb_acceptation'].transform('sum')\n",
    "\n",
    "# Calculer le pourcentage de nb_acceptation par Spé au sein de chaque groupe Année, Formation\n",
    "df['pourcentage_acceptation'] = (df['nb_acceptation'] / totals) * 100"
   ]
  },
  {
   "cell_type": "code",
   "execution_count": 12,
   "metadata": {},
   "outputs": [
    {
     "data": {
      "text/html": [
       "<div>\n",
       "<style scoped>\n",
       "    .dataframe tbody tr th:only-of-type {\n",
       "        vertical-align: middle;\n",
       "    }\n",
       "\n",
       "    .dataframe tbody tr th {\n",
       "        vertical-align: top;\n",
       "    }\n",
       "\n",
       "    .dataframe thead th {\n",
       "        text-align: right;\n",
       "    }\n",
       "</style>\n",
       "<table border=\"1\" class=\"dataframe\">\n",
       "  <thead>\n",
       "    <tr style=\"text-align: right;\">\n",
       "      <th></th>\n",
       "      <th>Année</th>\n",
       "      <th>Spé</th>\n",
       "      <th>Formation</th>\n",
       "      <th>nb_acceptation</th>\n",
       "      <th>pourcentage_acceptation</th>\n",
       "    </tr>\n",
       "  </thead>\n",
       "  <tbody>\n",
       "    <tr>\n",
       "      <th>0</th>\n",
       "      <td>2020</td>\n",
       "      <td>A</td>\n",
       "      <td>X</td>\n",
       "      <td>100</td>\n",
       "      <td>40.000000</td>\n",
       "    </tr>\n",
       "    <tr>\n",
       "      <th>1</th>\n",
       "      <td>2020</td>\n",
       "      <td>B</td>\n",
       "      <td>X</td>\n",
       "      <td>150</td>\n",
       "      <td>60.000000</td>\n",
       "    </tr>\n",
       "    <tr>\n",
       "      <th>2</th>\n",
       "      <td>2021</td>\n",
       "      <td>A</td>\n",
       "      <td>X</td>\n",
       "      <td>200</td>\n",
       "      <td>44.444444</td>\n",
       "    </tr>\n",
       "    <tr>\n",
       "      <th>3</th>\n",
       "      <td>2021</td>\n",
       "      <td>B</td>\n",
       "      <td>X</td>\n",
       "      <td>250</td>\n",
       "      <td>55.555556</td>\n",
       "    </tr>\n",
       "    <tr>\n",
       "      <th>4</th>\n",
       "      <td>2020</td>\n",
       "      <td>A</td>\n",
       "      <td>Y</td>\n",
       "      <td>300</td>\n",
       "      <td>100.000000</td>\n",
       "    </tr>\n",
       "    <tr>\n",
       "      <th>5</th>\n",
       "      <td>2021</td>\n",
       "      <td>B</td>\n",
       "      <td>Y</td>\n",
       "      <td>350</td>\n",
       "      <td>100.000000</td>\n",
       "    </tr>\n",
       "  </tbody>\n",
       "</table>\n",
       "</div>"
      ],
      "text/plain": [
       "   Année Spé Formation  nb_acceptation  pourcentage_acceptation\n",
       "0   2020   A         X             100                40.000000\n",
       "1   2020   B         X             150                60.000000\n",
       "2   2021   A         X             200                44.444444\n",
       "3   2021   B         X             250                55.555556\n",
       "4   2020   A         Y             300               100.000000\n",
       "5   2021   B         Y             350               100.000000"
      ]
     },
     "execution_count": 12,
     "metadata": {},
     "output_type": "execute_result"
    }
   ],
   "source": [
    "df"
   ]
  },
  {
   "cell_type": "code",
   "execution_count": 13,
   "metadata": {},
   "outputs": [
    {
     "data": {
      "text/plain": [
       "0    250\n",
       "1    250\n",
       "2    450\n",
       "3    450\n",
       "4    300\n",
       "5    350\n",
       "Name: nb_acceptation, dtype: int64"
      ]
     },
     "execution_count": 13,
     "metadata": {},
     "output_type": "execute_result"
    }
   ],
   "source": [
    "totals"
   ]
  },
  {
   "cell_type": "code",
   "execution_count": null,
   "metadata": {},
   "outputs": [],
   "source": []
  }
 ],
 "metadata": {
  "kernelspec": {
   "display_name": "base",
   "language": "python",
   "name": "python3"
  },
  "language_info": {
   "codemirror_mode": {
    "name": "ipython",
    "version": 3
   },
   "file_extension": ".py",
   "mimetype": "text/x-python",
   "name": "python",
   "nbconvert_exporter": "python",
   "pygments_lexer": "ipython3",
   "version": "3.12.7"
  }
 },
 "nbformat": 4,
 "nbformat_minor": 2
}
